{
 "cells": [
  {
   "cell_type": "code",
   "execution_count": 1,
   "id": "52f01e7b",
   "metadata": {},
   "outputs": [],
   "source": [
    "#Q2. Row Echelon Form: \n",
    "#Create a 5x5 matrix, A, with entries randomly chosen integers between 0 and 9. To generate the \n",
    "#random matrix, set the random seed as the last two digits of your roll number. Reduce matrix A to its \n",
    "#Row Echelon Form by performing elementary row operations. "
   ]
  },
  {
   "cell_type": "code",
   "execution_count": 2,
   "id": "016eeb59",
   "metadata": {},
   "outputs": [
    {
     "name": "stdout",
     "output_type": "stream",
     "text": [
      "Original Matrix A:\n",
      "[[3 0 5 3 4]\n",
      " [9 8 1 5 9]\n",
      " [6 8 7 8 5]\n",
      " [2 8 1 6 4]\n",
      " [8 4 6 4 9]]\n",
      "\n",
      "Row Echelon Form of Matrix A:\n",
      "[[1 0 0 0 1]\n",
      " [0 1 0 1 0]\n",
      " [0 0 1 0 0]\n",
      " [0 0 0 1 0]\n",
      " [0 0 0 0 1]]\n"
     ]
    }
   ],
   "source": [
    "import numpy as np\n",
    "# Set the random seed based on the last two digits of your roll number\n",
    "np.random.seed(36)  # You can replace 36 with your own last two digits\n",
    "\n",
    "# Create a 5x5 matrix A with random integers between 0 and 9\n",
    "A = np.random.randint(0, 10, (5, 5))\n",
    "print(\"Original Matrix A:\")\n",
    "print(A)\n",
    "\n",
    "# Perform elementary row operations to reduce A to its row echelon form\n",
    "for i in range(min(A.shape)):\n",
    "    # Find the pivot element in column i\n",
    "    pivot_idx = np.argmax(A[i:, i]) + i\n",
    "    A[[i, pivot_idx]] = A[[pivot_idx, i]]  # Swap rows to move the pivot to the diagonal position\n",
    "    pivot_row = A[i, i]\n",
    "    if pivot_row != 0:\n",
    "        A[i] = A[i] / pivot_row  # Make the pivot element 1\n",
    "        for j in range(i + 1, A.shape[0]):\n",
    "            A[j] -= A[j, i] * A[i]  # Make the elements below the pivot zero\n",
    "print(\"\\nRow Echelon Form of Matrix A:\")\n",
    "print(A)"
   ]
  }
 ],
 "metadata": {
  "kernelspec": {
   "display_name": "Python 3 (ipykernel)",
   "language": "python",
   "name": "python3"
  },
  "language_info": {
   "codemirror_mode": {
    "name": "ipython",
    "version": 3
   },
   "file_extension": ".py",
   "mimetype": "text/x-python",
   "name": "python",
   "nbconvert_exporter": "python",
   "pygments_lexer": "ipython3",
   "version": "3.11.4"
  }
 },
 "nbformat": 4,
 "nbformat_minor": 5
}
