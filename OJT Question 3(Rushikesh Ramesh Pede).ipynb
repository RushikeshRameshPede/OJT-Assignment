{
 "cells": [
  {
   "cell_type": "code",
   "execution_count": 1,
   "id": "526ad42c",
   "metadata": {},
   "outputs": [],
   "source": [
    "#Q3. Singular Value Decomposition (SVD): \n",
    "#Perform Singular Value Decomposition on the matrix A obtained in Question 2. Separate and print \n",
    "#matrices U, Σ, and 𝑉 .Verify that A equals the product of U, Σ, and 𝑉.Additionally, find the rank 2 \n",
    "#and rank 3 approximations of matrix A. "
   ]
  },
  {
   "cell_type": "code",
   "execution_count": 3,
   "id": "0627359d",
   "metadata": {},
   "outputs": [
    {
     "name": "stdout",
     "output_type": "stream",
     "text": [
      "Matrix U:\n",
      "[[-0.27147568 -0.72546602  0.6268527  -0.06315811  0.05537826]\n",
      " [-0.35197777 -0.41965658 -0.6942296  -0.45104272  0.12085415]\n",
      " [-0.43247986 -0.11384714 -0.2440318   0.85176966  0.12221675]\n",
      " [-0.51298195  0.1919623   0.06334162 -0.09777873 -0.828509  ]\n",
      " [-0.59348403  0.49777174  0.24806708 -0.2397901   0.53005983]]\n",
      "\n",
      "Matrix Sigma (Diagonal Matrix):\n",
      "[[2.68614066e+01 0.00000000e+00 0.00000000e+00 0.00000000e+00\n",
      "  0.00000000e+00]\n",
      " [0.00000000e+00 1.86140662e+00 0.00000000e+00 0.00000000e+00\n",
      "  0.00000000e+00]\n",
      " [0.00000000e+00 0.00000000e+00 1.20304281e-15 0.00000000e+00\n",
      "  0.00000000e+00]\n",
      " [0.00000000e+00 0.00000000e+00 0.00000000e+00 2.23702686e-16\n",
      "  0.00000000e+00]\n",
      " [0.00000000e+00 0.00000000e+00 0.00000000e+00 0.00000000e+00\n",
      "  5.81885606e-17]]\n",
      "\n",
      "Matrix V Transpose:\n",
      "[[-0.27147568 -0.35197777 -0.43247986 -0.51298195 -0.59348403]\n",
      " [ 0.72546602  0.41965658  0.11384714 -0.1919623  -0.49777174]\n",
      " [ 0.32258797 -0.6508131   0.02443455  0.61321833 -0.30942775]\n",
      " [ 0.54079038 -0.38992945 -0.29219195 -0.40898927  0.55032029]\n",
      " [-0.05901495 -0.35270005  0.84500108 -0.3958422  -0.03744387]]\n",
      "\n",
      "Reconstructed Matrix A:\n",
      "[[1. 2. 3. 4. 5.]\n",
      " [2. 3. 4. 5. 6.]\n",
      " [3. 4. 5. 6. 7.]\n",
      " [4. 5. 6. 7. 8.]\n",
      " [5. 6. 7. 8. 9.]]\n",
      "\n",
      "Rank 2 Approximation of Matrix A:\n",
      "[[1. 2. 3. 4. 5.]\n",
      " [2. 3. 4. 5. 6.]\n",
      " [3. 4. 5. 6. 7.]\n",
      " [4. 5. 6. 7. 8.]\n",
      " [5. 6. 7. 8. 9.]]\n",
      "\n",
      "Rank 3 Approximation of Matrix A:\n",
      "[[1. 2. 3. 4. 5.]\n",
      " [2. 3. 4. 5. 6.]\n",
      " [3. 4. 5. 6. 7.]\n",
      " [4. 5. 6. 7. 8.]\n",
      " [5. 6. 7. 8. 9.]]\n"
     ]
    }
   ],
   "source": [
    "import numpy as np\n",
    "# Define the matrix A (use the matrix A obtained from Question 2)\n",
    "A = np.array([\n",
    "    [1, 2, 3, 4, 5],\n",
    "    [2, 3, 4, 5, 6],\n",
    "    [3, 4, 5, 6, 7],\n",
    "    [4, 5, 6, 7, 8],\n",
    "    [5, 6, 7, 8, 9]\n",
    "])\n",
    "# Perform Singular Value Decomposition (SVD)\n",
    "U, Sigma, V_transpose = np.linalg.svd(A)\n",
    "# Print matrices U, Sigma, and V_transpose\n",
    "print(\"Matrix U:\")\n",
    "print(U)\n",
    "print(\"\\nMatrix Sigma (Diagonal Matrix):\")\n",
    "print(np.diag(Sigma))\n",
    "print(\"\\nMatrix V Transpose:\")\n",
    "print(V_transpose)\n",
    "# Verify that A equals the product of U, Sigma, and V_transpose\n",
    "A_reconstructed = np.dot(U, np.dot(np.diag(Sigma), V_transpose))\n",
    "print(\"\\nReconstructed Matrix A:\")\n",
    "print(A_reconstructed)\n",
    "# Find the rank 2 and rank 3 approximations of matrix A\n",
    "rank_2_approx = np.dot(U[:, :2], np.dot(np.diag(Sigma[:2]), V_transpose[:2, :]))\n",
    "rank_3_approx = np.dot(U[:, :3], np.dot(np.diag(Sigma[:3]), V_transpose[:3, :]))\n",
    "print(\"\\nRank 2 Approximation of Matrix A:\")\n",
    "print(rank_2_approx)\n",
    "print(\"\\nRank 3 Approximation of Matrix A:\")\n",
    "print(rank_3_approx)"
   ]
  }
 ],
 "metadata": {
  "kernelspec": {
   "display_name": "Python 3 (ipykernel)",
   "language": "python",
   "name": "python3"
  },
  "language_info": {
   "codemirror_mode": {
    "name": "ipython",
    "version": 3
   },
   "file_extension": ".py",
   "mimetype": "text/x-python",
   "name": "python",
   "nbconvert_exporter": "python",
   "pygments_lexer": "ipython3",
   "version": "3.11.4"
  }
 },
 "nbformat": 4,
 "nbformat_minor": 5
}
